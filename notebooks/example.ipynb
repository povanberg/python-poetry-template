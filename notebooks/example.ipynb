{
 "cells": [
  {
   "cell_type": "code",
   "execution_count": 1,
   "metadata": {},
   "outputs": [],
   "source": [
    "import pypoetry_template.math"
   ]
  },
  {
   "cell_type": "code",
   "execution_count": 2,
   "metadata": {},
   "outputs": [
    {
     "name": "stdout",
     "output_type": "stream",
     "text": [
      "Simple product: \n",
      "10.0 x 3.5 = 35.0\n"
     ]
    }
   ],
   "source": [
    "a: float = 10.0\n",
    "b: float = 3.5\n",
    "\n",
    "res = pypoetry_template.math.mul(a, b)\n",
    "\n",
    "print(\"Simple product: \")\n",
    "print(f\"{a} x {b} = {res}\")"
   ]
  },
  {
   "cell_type": "code",
   "execution_count": null,
   "metadata": {},
   "outputs": [],
   "source": []
  }
 ],
 "metadata": {
  "kernelspec": {
   "display_name": "pypoetry-template-BMhpUPdN-py3.9",
   "language": "python",
   "name": "python3"
  },
  "language_info": {
   "codemirror_mode": {
    "name": "ipython",
    "version": 3
   },
   "file_extension": ".py",
   "mimetype": "text/x-python",
   "name": "python",
   "nbconvert_exporter": "python",
   "pygments_lexer": "ipython3",
   "version": "3.9.0"
  },
  "orig_nbformat": 4,
  "vscode": {
   "interpreter": {
    "hash": "c5c8bb3b778ddd7ff5c8661df175052f934c41d25c8cd88fad482c1379feb74d"
   }
  }
 },
 "nbformat": 4,
 "nbformat_minor": 2
}
